{
 "cells": [
  {
   "cell_type": "markdown",
   "metadata": {},
   "source": [
    "<p>Class:  USC Viterbi Data Analytics Bootcamp</p>\n",
    "<p>Team:  Analyticus (aka Team 5)</p>\n",
    "<p>Module:  merge_plot_data.py<p>\n",
    "<p>Input 1:  CDC Influenza-Like-Illness Json File</p>\n",
    "<p>Input 2:  HHS Vaccination Json File.</p>\n",
    "<p>Output:  plot_state.json\n",
    "<p>Description:\n",
    "<ul>\n",
    "<li>Load pandas.DataFrame from cdc_state.json file.</li>\n",
    "<li>Load dict from hhs_state.json file</li>\n",
    "<li>Loop through dict, updating dataframe with vaccination rates.\n",
    "<li>Format json string by looping through the DataFrame</li>\n",
    "<li>Write json string to plot_state.json</li>\n",
    "</ul>"
   ]
  },
  {
   "cell_type": "code",
   "execution_count": null,
   "metadata": {
    "collapsed": true
   },
   "outputs": [],
   "source": [
    "# Import dependances.\n",
    "import json\n",
    "import pandas as pd\n",
    "import numpy as np"
   ]
  },
  {
   "cell_type": "code",
   "execution_count": null,
   "metadata": {
    "collapsed": true
   },
   "outputs": [],
   "source": [
    "# Load pandas.Dataframe from cdc.json\n",
    "with open('data/cdc_state.json') as cdc_file:\n",
    "    cdc_dict = json.load(cdc_file)"
   ]
  },
  {
   "cell_type": "code",
   "execution_count": null,
   "metadata": {},
   "outputs": [],
   "source": [
    "# Inspect cdc dictionary.\n",
    "cdc_dict"
   ]
  },
  {
   "cell_type": "code",
   "execution_count": null,
   "metadata": {
    "collapsed": true
   },
   "outputs": [],
   "source": [
    "# Build cdc dataframe from cdc dictionary.\n",
    "df = pd.DataFrame(cdc_dict)"
   ]
  },
  {
   "cell_type": "code",
   "execution_count": null,
   "metadata": {},
   "outputs": [],
   "source": [
    "# Inspect CDC dataframe.\n",
    "df.head()"
   ]
  },
  {
   "cell_type": "code",
   "execution_count": null,
   "metadata": {
    "collapsed": true
   },
   "outputs": [],
   "source": [
    "# Sort by columns year, week, and state.\n",
    "df = df.sort_values(by=['Week', 'State'])"
   ]
  },
  {
   "cell_type": "code",
   "execution_count": null,
   "metadata": {},
   "outputs": [],
   "source": [
    "df"
   ]
  },
  {
   "cell_type": "code",
   "execution_count": null,
   "metadata": {
    "collapsed": true
   },
   "outputs": [],
   "source": [
    "# Build a dict from the dataframe.\n",
    "cases_dict = {}\n",
    "for i in list(df.index):\n",
    "    case_dict = {}\n",
    "    case_dict[\"flu_cases\"] = df.loc[i,'Cases']\n",
    "    case_dict[\"flu_percent\"] = df.loc[i, 'Percent']\n",
    "    case_dict[\"state\"] = df.loc[i,'State']\n",
    "    \n",
    "    # Normalize CDC Week to Plot Week.\n",
    "    if df.loc[i, 'Year'] == 2017:\n",
    "        case_dict[\"week\"] = df.loc[i,'Week'] - 30\n",
    "    else:\n",
    "        case_dict[\"week\"] = df.loc[i,'Week'] + 22\n",
    "       \n",
    "    cases_dict[str(i)] = case_dict"
   ]
  },
  {
   "cell_type": "code",
   "execution_count": null,
   "metadata": {
    "collapsed": true
   },
   "outputs": [],
   "source": [
    "# Orient columns.\n",
    "df_cdc = pd.DataFrame(cases_dict)\n",
    "df_cdc = df_cdc.T"
   ]
  },
  {
   "cell_type": "code",
   "execution_count": null,
   "metadata": {},
   "outputs": [],
   "source": [
    "df_cdc.head()"
   ]
  },
  {
   "cell_type": "code",
   "execution_count": null,
   "metadata": {
    "collapsed": true
   },
   "outputs": [],
   "source": [
    "# Load pandas.Dataframe from hhs_state.json\n",
    "with open('data/hhs_state.json') as hhs_file:\n",
    "    hhs_dict = json.load(hhs_file)"
   ]
  },
  {
   "cell_type": "code",
   "execution_count": null,
   "metadata": {},
   "outputs": [],
   "source": [
    "# Create HHS dataframe from HHS dictionary.\n",
    "df_hhs = pd.DataFrame(hhs_dict)\n",
    "# df_hhs = df_hhs.T\n",
    "# df_hhs.head()"
   ]
  },
  {
   "cell_type": "code",
   "execution_count": null,
   "metadata": {
    "collapsed": true
   },
   "outputs": [],
   "source": [
    "# Reduce columns to those that are needed.\n",
    "df_hhs = df_hhs.filter(['count','name','percentage', 'week'], axis=1)\n",
    "# df_hhs.head()"
   ]
  },
  {
   "cell_type": "code",
   "execution_count": null,
   "metadata": {},
   "outputs": [],
   "source": [
    "# Rename HHS dataframe columns to match CCD dataframe columns.\n",
    "df_hhs = df_hhs.rename(columns={'count':'vaccinations', 'name':'state', 'percentage':'vac_percent'})"
   ]
  },
  {
   "cell_type": "code",
   "execution_count": null,
   "metadata": {},
   "outputs": [],
   "source": [
    "# Inspect dataframe\n",
    "# df_hhs.head()"
   ]
  },
  {
   "cell_type": "code",
   "execution_count": null,
   "metadata": {},
   "outputs": [],
   "source": [
    "# Merge with outer join the HHS and CDC dataframes.\n",
    "result = pd.merge(df_cdc, df_hhs, how='outer', on=['state', 'week'])\n",
    "result = result.sort_values(by=['week', 'state'])\n",
    "result.fillna(0, inplace=True)\n",
    "# result"
   ]
  },
  {
   "cell_type": "code",
   "execution_count": null,
   "metadata": {
    "collapsed": true
   },
   "outputs": [],
   "source": [
    "# Write the merged datafram to the json file.\n",
    "result.to_json('data/plot_state.json')"
   ]
  },
  {
   "cell_type": "code",
   "execution_count": null,
   "metadata": {
    "collapsed": true
   },
   "outputs": [],
   "source": [
    "# Sample code to access the json file.\n",
    "with open('data/plot_state.json') as plot_state_file:\n",
    "    plot_state_dict = json.load(plot_state_file)"
   ]
  },
  {
   "cell_type": "code",
   "execution_count": null,
   "metadata": {},
   "outputs": [],
   "source": [
    "# Sample code to access the json file.\n",
    "df_plot_state = pd.DataFrame(plot_state_dict)\n",
    "df_plot_state = df_plot_state.sort_values(by=['week', 'state'])\n",
    "df_plot_state.head()"
   ]
  },
  {
   "cell_type": "code",
   "execution_count": null,
   "metadata": {
    "collapsed": true
   },
   "outputs": [],
   "source": [
    "# Sample code to access the json file.\n",
    "# df_plot_state"
   ]
  }
 ],
 "metadata": {
  "kernelspec": {
   "display_name": "Python 3",
   "language": "python",
   "name": "python3"
  },
  "language_info": {
   "codemirror_mode": {
    "name": "ipython",
    "version": 3
   },
   "file_extension": ".py",
   "mimetype": "text/x-python",
   "name": "python",
   "nbconvert_exporter": "python",
   "pygments_lexer": "ipython3",
   "version": "3.6.3"
  }
 },
 "nbformat": 4,
 "nbformat_minor": 2
}

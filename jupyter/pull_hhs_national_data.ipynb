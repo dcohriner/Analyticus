{
 "cells": [
  {
   "cell_type": "code",
   "execution_count": 1,
   "metadata": {
    "collapsed": true
   },
   "outputs": [],
   "source": [
    "# Dependencies\n",
    "import requests\n",
    "import json\n",
    "import numpy as np\n",
    "import pandas as pd"
   ]
  },
  {
   "cell_type": "code",
   "execution_count": 2,
   "metadata": {
    "collapsed": true
   },
   "outputs": [],
   "source": [
    "# Build a dictionary of HHS national data.    \n",
    "url = \"https://fluvaccineapi.hhs.gov/api/v2/vaccination_rates/trends/2017/national.json?ethnicity=T&medicare_status=A\"\n",
    "    \n",
    "national_dict = requests.get(url).json()\n"
   ]
  },
  {
   "cell_type": "code",
   "execution_count": 3,
   "metadata": {
    "collapsed": true
   },
   "outputs": [],
   "source": [
    "df = pd.DataFrame(national_dict)"
   ]
  },
  {
   "cell_type": "code",
   "execution_count": 4,
   "metadata": {
    "collapsed": true
   },
   "outputs": [],
   "source": [
    "df = df[['count', 'percentage', 'week']]"
   ]
  },
  {
   "cell_type": "code",
   "execution_count": 5,
   "metadata": {
    "collapsed": true
   },
   "outputs": [],
   "source": [
    "df = df.rename(columns={\"count\":\"vaccinations\", \"percentage\":\"vac_percent\"})"
   ]
  },
  {
   "cell_type": "code",
   "execution_count": 8,
   "metadata": {},
   "outputs": [],
   "source": [
    "df2 = df"
   ]
  },
  {
   "cell_type": "code",
   "execution_count": 9,
   "metadata": {},
   "outputs": [
    {
     "data": {
      "text/html": [
       "<div>\n",
       "<style>\n",
       "    .dataframe thead tr:only-child th {\n",
       "        text-align: right;\n",
       "    }\n",
       "\n",
       "    .dataframe thead th {\n",
       "        text-align: left;\n",
       "    }\n",
       "\n",
       "    .dataframe tbody tr th {\n",
       "        vertical-align: top;\n",
       "    }\n",
       "</style>\n",
       "<table border=\"1\" class=\"dataframe\">\n",
       "  <thead>\n",
       "    <tr style=\"text-align: right;\">\n",
       "      <th></th>\n",
       "      <th>vaccinations</th>\n",
       "      <th>vac_percent</th>\n",
       "      <th>week</th>\n",
       "    </tr>\n",
       "  </thead>\n",
       "  <tbody>\n",
       "    <tr>\n",
       "      <th>0</th>\n",
       "      <td>31422333</td>\n",
       "      <td>0.001697</td>\n",
       "      <td>1</td>\n",
       "    </tr>\n",
       "    <tr>\n",
       "      <th>1</th>\n",
       "      <td>31422333</td>\n",
       "      <td>0.005075</td>\n",
       "      <td>2</td>\n",
       "    </tr>\n",
       "    <tr>\n",
       "      <th>2</th>\n",
       "      <td>31422333</td>\n",
       "      <td>0.010479</td>\n",
       "      <td>3</td>\n",
       "    </tr>\n",
       "    <tr>\n",
       "      <th>3</th>\n",
       "      <td>31422333</td>\n",
       "      <td>0.020088</td>\n",
       "      <td>4</td>\n",
       "    </tr>\n",
       "    <tr>\n",
       "      <th>4</th>\n",
       "      <td>31422333</td>\n",
       "      <td>0.036383</td>\n",
       "      <td>5</td>\n",
       "    </tr>\n",
       "  </tbody>\n",
       "</table>\n",
       "</div>"
      ],
      "text/plain": [
       "   vaccinations  vac_percent  week\n",
       "0      31422333     0.001697     1\n",
       "1      31422333     0.005075     2\n",
       "2      31422333     0.010479     3\n",
       "3      31422333     0.020088     4\n",
       "4      31422333     0.036383     5"
      ]
     },
     "execution_count": 9,
     "metadata": {},
     "output_type": "execute_result"
    }
   ],
   "source": [
    "df2.head()"
   ]
  },
  {
   "cell_type": "code",
   "execution_count": 10,
   "metadata": {},
   "outputs": [],
   "source": [
    "df2.vac_percent = df2.vac_percent * 100"
   ]
  },
  {
   "cell_type": "code",
   "execution_count": 11,
   "metadata": {},
   "outputs": [
    {
     "data": {
      "text/html": [
       "<div>\n",
       "<style>\n",
       "    .dataframe thead tr:only-child th {\n",
       "        text-align: right;\n",
       "    }\n",
       "\n",
       "    .dataframe thead th {\n",
       "        text-align: left;\n",
       "    }\n",
       "\n",
       "    .dataframe tbody tr th {\n",
       "        vertical-align: top;\n",
       "    }\n",
       "</style>\n",
       "<table border=\"1\" class=\"dataframe\">\n",
       "  <thead>\n",
       "    <tr style=\"text-align: right;\">\n",
       "      <th></th>\n",
       "      <th>vaccinations</th>\n",
       "      <th>vac_percent</th>\n",
       "      <th>week</th>\n",
       "    </tr>\n",
       "  </thead>\n",
       "  <tbody>\n",
       "    <tr>\n",
       "      <th>0</th>\n",
       "      <td>31422333</td>\n",
       "      <td>0.169688</td>\n",
       "      <td>1</td>\n",
       "    </tr>\n",
       "    <tr>\n",
       "      <th>1</th>\n",
       "      <td>31422333</td>\n",
       "      <td>0.507467</td>\n",
       "      <td>2</td>\n",
       "    </tr>\n",
       "    <tr>\n",
       "      <th>2</th>\n",
       "      <td>31422333</td>\n",
       "      <td>1.047860</td>\n",
       "      <td>3</td>\n",
       "    </tr>\n",
       "    <tr>\n",
       "      <th>3</th>\n",
       "      <td>31422333</td>\n",
       "      <td>2.008780</td>\n",
       "      <td>4</td>\n",
       "    </tr>\n",
       "    <tr>\n",
       "      <th>4</th>\n",
       "      <td>31422333</td>\n",
       "      <td>3.638280</td>\n",
       "      <td>5</td>\n",
       "    </tr>\n",
       "  </tbody>\n",
       "</table>\n",
       "</div>"
      ],
      "text/plain": [
       "   vaccinations  vac_percent  week\n",
       "0      31422333     0.169688     1\n",
       "1      31422333     0.507467     2\n",
       "2      31422333     1.047860     3\n",
       "3      31422333     2.008780     4\n",
       "4      31422333     3.638280     5"
      ]
     },
     "execution_count": 11,
     "metadata": {},
     "output_type": "execute_result"
    }
   ],
   "source": [
    "df2.head()"
   ]
  },
  {
   "cell_type": "code",
   "execution_count": 12,
   "metadata": {
    "collapsed": true
   },
   "outputs": [],
   "source": [
    "df2['vac_pct_week'] = 0.0"
   ]
  },
  {
   "cell_type": "code",
   "execution_count": 13,
   "metadata": {},
   "outputs": [
    {
     "data": {
      "text/html": [
       "<div>\n",
       "<style>\n",
       "    .dataframe thead tr:only-child th {\n",
       "        text-align: right;\n",
       "    }\n",
       "\n",
       "    .dataframe thead th {\n",
       "        text-align: left;\n",
       "    }\n",
       "\n",
       "    .dataframe tbody tr th {\n",
       "        vertical-align: top;\n",
       "    }\n",
       "</style>\n",
       "<table border=\"1\" class=\"dataframe\">\n",
       "  <thead>\n",
       "    <tr style=\"text-align: right;\">\n",
       "      <th></th>\n",
       "      <th>vaccinations</th>\n",
       "      <th>vac_percent</th>\n",
       "      <th>week</th>\n",
       "      <th>vac_pct_week</th>\n",
       "    </tr>\n",
       "  </thead>\n",
       "  <tbody>\n",
       "    <tr>\n",
       "      <th>0</th>\n",
       "      <td>31422333</td>\n",
       "      <td>0.169688</td>\n",
       "      <td>1</td>\n",
       "      <td>0.0</td>\n",
       "    </tr>\n",
       "    <tr>\n",
       "      <th>1</th>\n",
       "      <td>31422333</td>\n",
       "      <td>0.507467</td>\n",
       "      <td>2</td>\n",
       "      <td>0.0</td>\n",
       "    </tr>\n",
       "    <tr>\n",
       "      <th>2</th>\n",
       "      <td>31422333</td>\n",
       "      <td>1.047860</td>\n",
       "      <td>3</td>\n",
       "      <td>0.0</td>\n",
       "    </tr>\n",
       "    <tr>\n",
       "      <th>3</th>\n",
       "      <td>31422333</td>\n",
       "      <td>2.008780</td>\n",
       "      <td>4</td>\n",
       "      <td>0.0</td>\n",
       "    </tr>\n",
       "    <tr>\n",
       "      <th>4</th>\n",
       "      <td>31422333</td>\n",
       "      <td>3.638280</td>\n",
       "      <td>5</td>\n",
       "      <td>0.0</td>\n",
       "    </tr>\n",
       "  </tbody>\n",
       "</table>\n",
       "</div>"
      ],
      "text/plain": [
       "   vaccinations  vac_percent  week  vac_pct_week\n",
       "0      31422333     0.169688     1           0.0\n",
       "1      31422333     0.507467     2           0.0\n",
       "2      31422333     1.047860     3           0.0\n",
       "3      31422333     2.008780     4           0.0\n",
       "4      31422333     3.638280     5           0.0"
      ]
     },
     "execution_count": 13,
     "metadata": {},
     "output_type": "execute_result"
    }
   ],
   "source": [
    "df2.head()"
   ]
  },
  {
   "cell_type": "code",
   "execution_count": 15,
   "metadata": {},
   "outputs": [
    {
     "data": {
      "text/plain": [
       "RangeIndex(start=0, stop=25, step=1)"
      ]
     },
     "execution_count": 15,
     "metadata": {},
     "output_type": "execute_result"
    }
   ],
   "source": [
    "df2.index"
   ]
  },
  {
   "cell_type": "code",
   "execution_count": 21,
   "metadata": {},
   "outputs": [
    {
     "data": {
      "text/html": [
       "<div>\n",
       "<style>\n",
       "    .dataframe thead tr:only-child th {\n",
       "        text-align: right;\n",
       "    }\n",
       "\n",
       "    .dataframe thead th {\n",
       "        text-align: left;\n",
       "    }\n",
       "\n",
       "    .dataframe tbody tr th {\n",
       "        vertical-align: top;\n",
       "    }\n",
       "</style>\n",
       "<table border=\"1\" class=\"dataframe\">\n",
       "  <thead>\n",
       "    <tr style=\"text-align: right;\">\n",
       "      <th></th>\n",
       "      <th>vaccinations</th>\n",
       "      <th>vac_percent</th>\n",
       "      <th>week</th>\n",
       "      <th>vac_pct_week</th>\n",
       "    </tr>\n",
       "  </thead>\n",
       "  <tbody>\n",
       "    <tr>\n",
       "      <th>0</th>\n",
       "      <td>31422333</td>\n",
       "      <td>0.169688</td>\n",
       "      <td>1</td>\n",
       "      <td>0.169688</td>\n",
       "    </tr>\n",
       "    <tr>\n",
       "      <th>1</th>\n",
       "      <td>31422333</td>\n",
       "      <td>0.507467</td>\n",
       "      <td>2</td>\n",
       "      <td>0.000000</td>\n",
       "    </tr>\n",
       "    <tr>\n",
       "      <th>2</th>\n",
       "      <td>31422333</td>\n",
       "      <td>1.047860</td>\n",
       "      <td>3</td>\n",
       "      <td>0.000000</td>\n",
       "    </tr>\n",
       "    <tr>\n",
       "      <th>3</th>\n",
       "      <td>31422333</td>\n",
       "      <td>2.008780</td>\n",
       "      <td>4</td>\n",
       "      <td>0.000000</td>\n",
       "    </tr>\n",
       "    <tr>\n",
       "      <th>4</th>\n",
       "      <td>31422333</td>\n",
       "      <td>3.638280</td>\n",
       "      <td>5</td>\n",
       "      <td>0.000000</td>\n",
       "    </tr>\n",
       "    <tr>\n",
       "      <th>5</th>\n",
       "      <td>31422333</td>\n",
       "      <td>6.463480</td>\n",
       "      <td>6</td>\n",
       "      <td>0.000000</td>\n",
       "    </tr>\n",
       "    <tr>\n",
       "      <th>6</th>\n",
       "      <td>31422333</td>\n",
       "      <td>10.137000</td>\n",
       "      <td>7</td>\n",
       "      <td>0.000000</td>\n",
       "    </tr>\n",
       "    <tr>\n",
       "      <th>7</th>\n",
       "      <td>31422333</td>\n",
       "      <td>14.657600</td>\n",
       "      <td>8</td>\n",
       "      <td>0.000000</td>\n",
       "    </tr>\n",
       "    <tr>\n",
       "      <th>8</th>\n",
       "      <td>31422333</td>\n",
       "      <td>20.334000</td>\n",
       "      <td>9</td>\n",
       "      <td>0.000000</td>\n",
       "    </tr>\n",
       "    <tr>\n",
       "      <th>9</th>\n",
       "      <td>31422333</td>\n",
       "      <td>25.602000</td>\n",
       "      <td>10</td>\n",
       "      <td>0.000000</td>\n",
       "    </tr>\n",
       "    <tr>\n",
       "      <th>10</th>\n",
       "      <td>31422333</td>\n",
       "      <td>30.386500</td>\n",
       "      <td>11</td>\n",
       "      <td>0.000000</td>\n",
       "    </tr>\n",
       "    <tr>\n",
       "      <th>11</th>\n",
       "      <td>31422333</td>\n",
       "      <td>34.269900</td>\n",
       "      <td>12</td>\n",
       "      <td>0.000000</td>\n",
       "    </tr>\n",
       "    <tr>\n",
       "      <th>12</th>\n",
       "      <td>31422333</td>\n",
       "      <td>37.215900</td>\n",
       "      <td>13</td>\n",
       "      <td>0.000000</td>\n",
       "    </tr>\n",
       "    <tr>\n",
       "      <th>13</th>\n",
       "      <td>31422333</td>\n",
       "      <td>39.581300</td>\n",
       "      <td>14</td>\n",
       "      <td>0.000000</td>\n",
       "    </tr>\n",
       "    <tr>\n",
       "      <th>14</th>\n",
       "      <td>31422333</td>\n",
       "      <td>41.462000</td>\n",
       "      <td>15</td>\n",
       "      <td>0.000000</td>\n",
       "    </tr>\n",
       "    <tr>\n",
       "      <th>15</th>\n",
       "      <td>31422333</td>\n",
       "      <td>42.329500</td>\n",
       "      <td>16</td>\n",
       "      <td>0.000000</td>\n",
       "    </tr>\n",
       "    <tr>\n",
       "      <th>16</th>\n",
       "      <td>31422333</td>\n",
       "      <td>43.450800</td>\n",
       "      <td>17</td>\n",
       "      <td>0.000000</td>\n",
       "    </tr>\n",
       "    <tr>\n",
       "      <th>17</th>\n",
       "      <td>31422333</td>\n",
       "      <td>44.384500</td>\n",
       "      <td>18</td>\n",
       "      <td>0.000000</td>\n",
       "    </tr>\n",
       "    <tr>\n",
       "      <th>18</th>\n",
       "      <td>31422333</td>\n",
       "      <td>45.120900</td>\n",
       "      <td>19</td>\n",
       "      <td>0.000000</td>\n",
       "    </tr>\n",
       "    <tr>\n",
       "      <th>19</th>\n",
       "      <td>31422333</td>\n",
       "      <td>45.609200</td>\n",
       "      <td>20</td>\n",
       "      <td>0.000000</td>\n",
       "    </tr>\n",
       "    <tr>\n",
       "      <th>20</th>\n",
       "      <td>31422333</td>\n",
       "      <td>45.818700</td>\n",
       "      <td>21</td>\n",
       "      <td>0.000000</td>\n",
       "    </tr>\n",
       "    <tr>\n",
       "      <th>21</th>\n",
       "      <td>31422333</td>\n",
       "      <td>45.919600</td>\n",
       "      <td>22</td>\n",
       "      <td>0.000000</td>\n",
       "    </tr>\n",
       "    <tr>\n",
       "      <th>22</th>\n",
       "      <td>31422333</td>\n",
       "      <td>45.984700</td>\n",
       "      <td>23</td>\n",
       "      <td>0.000000</td>\n",
       "    </tr>\n",
       "    <tr>\n",
       "      <th>23</th>\n",
       "      <td>31422333</td>\n",
       "      <td>45.987300</td>\n",
       "      <td>24</td>\n",
       "      <td>0.000000</td>\n",
       "    </tr>\n",
       "    <tr>\n",
       "      <th>24</th>\n",
       "      <td>31422333</td>\n",
       "      <td>45.987300</td>\n",
       "      <td>25</td>\n",
       "      <td>0.000000</td>\n",
       "    </tr>\n",
       "  </tbody>\n",
       "</table>\n",
       "</div>"
      ],
      "text/plain": [
       "    vaccinations  vac_percent  week  vac_pct_week\n",
       "0       31422333     0.169688     1      0.169688\n",
       "1       31422333     0.507467     2      0.000000\n",
       "2       31422333     1.047860     3      0.000000\n",
       "3       31422333     2.008780     4      0.000000\n",
       "4       31422333     3.638280     5      0.000000\n",
       "5       31422333     6.463480     6      0.000000\n",
       "6       31422333    10.137000     7      0.000000\n",
       "7       31422333    14.657600     8      0.000000\n",
       "8       31422333    20.334000     9      0.000000\n",
       "9       31422333    25.602000    10      0.000000\n",
       "10      31422333    30.386500    11      0.000000\n",
       "11      31422333    34.269900    12      0.000000\n",
       "12      31422333    37.215900    13      0.000000\n",
       "13      31422333    39.581300    14      0.000000\n",
       "14      31422333    41.462000    15      0.000000\n",
       "15      31422333    42.329500    16      0.000000\n",
       "16      31422333    43.450800    17      0.000000\n",
       "17      31422333    44.384500    18      0.000000\n",
       "18      31422333    45.120900    19      0.000000\n",
       "19      31422333    45.609200    20      0.000000\n",
       "20      31422333    45.818700    21      0.000000\n",
       "21      31422333    45.919600    22      0.000000\n",
       "22      31422333    45.984700    23      0.000000\n",
       "23      31422333    45.987300    24      0.000000\n",
       "24      31422333    45.987300    25      0.000000"
      ]
     },
     "execution_count": 21,
     "metadata": {},
     "output_type": "execute_result"
    }
   ],
   "source": [
    "df2"
   ]
  },
  {
   "cell_type": "code",
   "execution_count": 31,
   "metadata": {},
   "outputs": [
    {
     "name": "stdout",
     "output_type": "stream",
     "text": [
      "0 <class 'numpy.int64'>\n",
      "1 <class 'numpy.int64'>\n",
      "2 <class 'numpy.int64'>\n",
      "3 <class 'numpy.int64'>\n",
      "4 <class 'numpy.int64'>\n",
      "5 <class 'numpy.int64'>\n",
      "6 <class 'numpy.int64'>\n",
      "7 <class 'numpy.int64'>\n",
      "8 <class 'numpy.int64'>\n",
      "9 <class 'numpy.int64'>\n",
      "10 <class 'numpy.int64'>\n",
      "11 <class 'numpy.int64'>\n",
      "12 <class 'numpy.int64'>\n",
      "13 <class 'numpy.int64'>\n",
      "14 <class 'numpy.int64'>\n",
      "15 <class 'numpy.int64'>\n",
      "16 <class 'numpy.int64'>\n",
      "17 <class 'numpy.int64'>\n",
      "18 <class 'numpy.int64'>\n",
      "19 <class 'numpy.int64'>\n",
      "20 <class 'numpy.int64'>\n",
      "21 <class 'numpy.int64'>\n",
      "22 <class 'numpy.int64'>\n",
      "23 <class 'numpy.int64'>\n",
      "24 <class 'numpy.int64'>\n"
     ]
    }
   ],
   "source": [
    "for index_entry in df2.index:\n",
    "    print(index_entry, type(index_entry))"
   ]
  },
  {
   "cell_type": "code",
   "execution_count": 35,
   "metadata": {},
   "outputs": [
    {
     "name": "stdout",
     "output_type": "stream",
     "text": [
      "0.337779\n",
      "0.540393\n",
      "0.96092\n",
      "1.6295\n",
      "2.8252\n",
      "3.67352\n",
      "4.5206\n",
      "5.6764\n",
      "5.268\n",
      "4.7845\n",
      "3.8834\n",
      "2.946\n",
      "2.3654\n",
      "1.8807\n",
      "0.8675\n",
      "1.1213\n",
      "0.9337\n",
      "0.7364\n",
      "0.4883\n",
      "0.2095\n",
      "0.1009\n",
      "0.0651\n",
      "0.00259999999999\n",
      "0.0\n"
     ]
    }
   ],
   "source": [
    "for index_entry in df2.index:\n",
    "    if index_entry == 0:\n",
    "        df2.loc[index_entry, 'vac_pct_week'] = df2.loc[index_entry, 'vac_percent']\n",
    "        continue\n",
    "    i = index_entry - 1\n",
    "    df2.loc[index_entry, 'vac_pct_week'] = df2.loc[index_entry, 'vac_percent'] - df2.loc[i, 'vac_percent']"
   ]
  },
  {
   "cell_type": "code",
   "execution_count": 36,
   "metadata": {},
   "outputs": [
    {
     "data": {
      "text/html": [
       "<div>\n",
       "<style>\n",
       "    .dataframe thead tr:only-child th {\n",
       "        text-align: right;\n",
       "    }\n",
       "\n",
       "    .dataframe thead th {\n",
       "        text-align: left;\n",
       "    }\n",
       "\n",
       "    .dataframe tbody tr th {\n",
       "        vertical-align: top;\n",
       "    }\n",
       "</style>\n",
       "<table border=\"1\" class=\"dataframe\">\n",
       "  <thead>\n",
       "    <tr style=\"text-align: right;\">\n",
       "      <th></th>\n",
       "      <th>vaccinations</th>\n",
       "      <th>vac_percent</th>\n",
       "      <th>week</th>\n",
       "      <th>vac_pct_week</th>\n",
       "    </tr>\n",
       "  </thead>\n",
       "  <tbody>\n",
       "    <tr>\n",
       "      <th>0</th>\n",
       "      <td>31422333</td>\n",
       "      <td>0.169688</td>\n",
       "      <td>1</td>\n",
       "      <td>0.169688</td>\n",
       "    </tr>\n",
       "    <tr>\n",
       "      <th>1</th>\n",
       "      <td>31422333</td>\n",
       "      <td>0.507467</td>\n",
       "      <td>2</td>\n",
       "      <td>0.337779</td>\n",
       "    </tr>\n",
       "    <tr>\n",
       "      <th>2</th>\n",
       "      <td>31422333</td>\n",
       "      <td>1.047860</td>\n",
       "      <td>3</td>\n",
       "      <td>0.540393</td>\n",
       "    </tr>\n",
       "    <tr>\n",
       "      <th>3</th>\n",
       "      <td>31422333</td>\n",
       "      <td>2.008780</td>\n",
       "      <td>4</td>\n",
       "      <td>0.960920</td>\n",
       "    </tr>\n",
       "    <tr>\n",
       "      <th>4</th>\n",
       "      <td>31422333</td>\n",
       "      <td>3.638280</td>\n",
       "      <td>5</td>\n",
       "      <td>1.629500</td>\n",
       "    </tr>\n",
       "  </tbody>\n",
       "</table>\n",
       "</div>"
      ],
      "text/plain": [
       "   vaccinations  vac_percent  week  vac_pct_week\n",
       "0      31422333     0.169688     1      0.169688\n",
       "1      31422333     0.507467     2      0.337779\n",
       "2      31422333     1.047860     3      0.540393\n",
       "3      31422333     2.008780     4      0.960920\n",
       "4      31422333     3.638280     5      1.629500"
      ]
     },
     "execution_count": 36,
     "metadata": {},
     "output_type": "execute_result"
    }
   ],
   "source": [
    "df2.head()"
   ]
  },
  {
   "cell_type": "code",
   "execution_count": 37,
   "metadata": {
    "collapsed": true
   },
   "outputs": [],
   "source": [
    "df2.to_json('data/hhs_national.json')"
   ]
  },
  {
   "cell_type": "code",
   "execution_count": 38,
   "metadata": {
    "collapsed": true
   },
   "outputs": [],
   "source": [
    "# Sample code to access the json file.\n",
    "with open('data/hhs_national.json') as hhs_national_file:\n",
    "    hhs_national_dict = json.load(hhs_national_file)"
   ]
  },
  {
   "cell_type": "code",
   "execution_count": 40,
   "metadata": {},
   "outputs": [
    {
     "data": {
      "text/html": [
       "<div>\n",
       "<style>\n",
       "    .dataframe thead tr:only-child th {\n",
       "        text-align: right;\n",
       "    }\n",
       "\n",
       "    .dataframe thead th {\n",
       "        text-align: left;\n",
       "    }\n",
       "\n",
       "    .dataframe tbody tr th {\n",
       "        vertical-align: top;\n",
       "    }\n",
       "</style>\n",
       "<table border=\"1\" class=\"dataframe\">\n",
       "  <thead>\n",
       "    <tr style=\"text-align: right;\">\n",
       "      <th></th>\n",
       "      <th>vac_pct_week</th>\n",
       "      <th>vac_percent</th>\n",
       "      <th>vaccinations</th>\n",
       "      <th>week</th>\n",
       "    </tr>\n",
       "  </thead>\n",
       "  <tbody>\n",
       "    <tr>\n",
       "      <th>0</th>\n",
       "      <td>0.169688</td>\n",
       "      <td>0.169688</td>\n",
       "      <td>31422333</td>\n",
       "      <td>1</td>\n",
       "    </tr>\n",
       "    <tr>\n",
       "      <th>1</th>\n",
       "      <td>0.337779</td>\n",
       "      <td>0.507467</td>\n",
       "      <td>31422333</td>\n",
       "      <td>2</td>\n",
       "    </tr>\n",
       "    <tr>\n",
       "      <th>2</th>\n",
       "      <td>0.540393</td>\n",
       "      <td>1.047860</td>\n",
       "      <td>31422333</td>\n",
       "      <td>3</td>\n",
       "    </tr>\n",
       "    <tr>\n",
       "      <th>3</th>\n",
       "      <td>0.960920</td>\n",
       "      <td>2.008780</td>\n",
       "      <td>31422333</td>\n",
       "      <td>4</td>\n",
       "    </tr>\n",
       "    <tr>\n",
       "      <th>4</th>\n",
       "      <td>1.629500</td>\n",
       "      <td>3.638280</td>\n",
       "      <td>31422333</td>\n",
       "      <td>5</td>\n",
       "    </tr>\n",
       "  </tbody>\n",
       "</table>\n",
       "</div>"
      ],
      "text/plain": [
       "   vac_pct_week  vac_percent  vaccinations  week\n",
       "0      0.169688     0.169688      31422333     1\n",
       "1      0.337779     0.507467      31422333     2\n",
       "2      0.540393     1.047860      31422333     3\n",
       "3      0.960920     2.008780      31422333     4\n",
       "4      1.629500     3.638280      31422333     5"
      ]
     },
     "execution_count": 40,
     "metadata": {},
     "output_type": "execute_result"
    }
   ],
   "source": [
    "# Sample code for accessing the merged data\n",
    "df_hhs = pd.DataFrame(hhs_national_dict)\n",
    "df_hhs = df_hhs.sort_values(['week'])\n",
    "df_hhs.head()"
   ]
  }
 ],
 "metadata": {
  "kernelspec": {
   "display_name": "Python 3",
   "language": "python",
   "name": "python3"
  },
  "language_info": {
   "codemirror_mode": {
    "name": "ipython",
    "version": 3
   },
   "file_extension": ".py",
   "mimetype": "text/x-python",
   "name": "python",
   "nbconvert_exporter": "python",
   "pygments_lexer": "ipython3",
   "version": "3.6.3"
  },
  "varInspector": {
   "cols": {
    "lenName": 16,
    "lenType": 16,
    "lenVar": 40
   },
   "kernels_config": {
    "python": {
     "delete_cmd_postfix": "",
     "delete_cmd_prefix": "del ",
     "library": "var_list.py",
     "varRefreshCmd": "print(var_dic_list())"
    },
    "r": {
     "delete_cmd_postfix": ") ",
     "delete_cmd_prefix": "rm(",
     "library": "var_list.r",
     "varRefreshCmd": "cat(var_dic_list()) "
    }
   },
   "types_to_exclude": [
    "module",
    "function",
    "builtin_function_or_method",
    "instance",
    "_Feature"
   ],
   "window_display": false
  }
 },
 "nbformat": 4,
 "nbformat_minor": 2
}

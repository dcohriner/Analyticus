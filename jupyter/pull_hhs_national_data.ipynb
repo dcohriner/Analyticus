{
 "cells": [
  {
   "cell_type": "markdown",
   "metadata": {},
   "source": [
    "<p>Class:  USC Viterbi Data Analytics Bootcamp</p>\n",
    "<p>Team:  Analyticus (aka Team 5)</p>\n",
    "<p>Module:  pull_hhs_national_data.py</p>\n",
    "<p>Version:  March 31, 2018</p>\n",
    "<p>Input:  HHS Vaccinations from HHS API for flu season 2017.</p>\n",
    "<p>Output:  HHS Vaccinations Json File for flu season 2017.</p>"
   ]
  },
  {
   "cell_type": "code",
   "execution_count": 1,
   "metadata": {
    "collapsed": true
   },
   "outputs": [],
   "source": [
    "# Dependencies\n",
    "import requests\n",
    "import json\n",
    "import numpy as np\n",
    "import pandas as pd"
   ]
  },
  {
   "cell_type": "code",
   "execution_count": 2,
   "metadata": {
    "collapsed": true
   },
   "outputs": [],
   "source": [
    "# Load a dictionary from the HHS website. \n",
    "url = \"https://fluvaccineapi.hhs.gov/api/v2/vaccination_rates/trends/2017/national.json?ethnicity=T&medicare_status=A\"\n",
    "    \n",
    "national_dict = requests.get(url).json()"
   ]
  },
  {
   "cell_type": "code",
   "execution_count": 3,
   "metadata": {
    "collapsed": true
   },
   "outputs": [],
   "source": [
    "# Load a dataframe with HHS data from the dictionary.\n",
    "df = pd.DataFrame(national_dict)"
   ]
  },
  {
   "cell_type": "code",
   "execution_count": 4,
   "metadata": {},
   "outputs": [
    {
     "data": {
      "text/html": [
       "<div>\n",
       "<style>\n",
       "    .dataframe thead tr:only-child th {\n",
       "        text-align: right;\n",
       "    }\n",
       "\n",
       "    .dataframe thead th {\n",
       "        text-align: left;\n",
       "    }\n",
       "\n",
       "    .dataframe tbody tr th {\n",
       "        vertical-align: top;\n",
       "    }\n",
       "</style>\n",
       "<table border=\"1\" class=\"dataframe\">\n",
       "  <thead>\n",
       "    <tr style=\"text-align: right;\">\n",
       "      <th></th>\n",
       "      <th>count</th>\n",
       "      <th>disparity</th>\n",
       "      <th>ethnicity</th>\n",
       "      <th>fips</th>\n",
       "      <th>medicare_status</th>\n",
       "      <th>name</th>\n",
       "      <th>percentage</th>\n",
       "      <th>short_name</th>\n",
       "      <th>week</th>\n",
       "      <th>week_start</th>\n",
       "      <th>year</th>\n",
       "    </tr>\n",
       "  </thead>\n",
       "  <tbody>\n",
       "    <tr>\n",
       "      <th>0</th>\n",
       "      <td>31422333</td>\n",
       "      <td>0.0</td>\n",
       "      <td>T</td>\n",
       "      <td>00</td>\n",
       "      <td>A</td>\n",
       "      <td>National</td>\n",
       "      <td>0.001697</td>\n",
       "      <td>US</td>\n",
       "      <td>1</td>\n",
       "      <td>05AUG</td>\n",
       "      <td>2017</td>\n",
       "    </tr>\n",
       "    <tr>\n",
       "      <th>1</th>\n",
       "      <td>31422333</td>\n",
       "      <td>0.0</td>\n",
       "      <td>T</td>\n",
       "      <td>00</td>\n",
       "      <td>A</td>\n",
       "      <td>National</td>\n",
       "      <td>0.005075</td>\n",
       "      <td>US</td>\n",
       "      <td>2</td>\n",
       "      <td>12AUG</td>\n",
       "      <td>2017</td>\n",
       "    </tr>\n",
       "    <tr>\n",
       "      <th>2</th>\n",
       "      <td>31422333</td>\n",
       "      <td>0.0</td>\n",
       "      <td>T</td>\n",
       "      <td>00</td>\n",
       "      <td>A</td>\n",
       "      <td>National</td>\n",
       "      <td>0.010479</td>\n",
       "      <td>US</td>\n",
       "      <td>3</td>\n",
       "      <td>19AUG</td>\n",
       "      <td>2017</td>\n",
       "    </tr>\n",
       "    <tr>\n",
       "      <th>3</th>\n",
       "      <td>31422333</td>\n",
       "      <td>0.0</td>\n",
       "      <td>T</td>\n",
       "      <td>00</td>\n",
       "      <td>A</td>\n",
       "      <td>National</td>\n",
       "      <td>0.020088</td>\n",
       "      <td>US</td>\n",
       "      <td>4</td>\n",
       "      <td>26AUG</td>\n",
       "      <td>2017</td>\n",
       "    </tr>\n",
       "    <tr>\n",
       "      <th>4</th>\n",
       "      <td>31422333</td>\n",
       "      <td>0.0</td>\n",
       "      <td>T</td>\n",
       "      <td>00</td>\n",
       "      <td>A</td>\n",
       "      <td>National</td>\n",
       "      <td>0.036383</td>\n",
       "      <td>US</td>\n",
       "      <td>5</td>\n",
       "      <td>02SEP</td>\n",
       "      <td>2017</td>\n",
       "    </tr>\n",
       "  </tbody>\n",
       "</table>\n",
       "</div>"
      ],
      "text/plain": [
       "      count  disparity ethnicity fips medicare_status      name  percentage  \\\n",
       "0  31422333        0.0         T   00               A  National    0.001697   \n",
       "1  31422333        0.0         T   00               A  National    0.005075   \n",
       "2  31422333        0.0         T   00               A  National    0.010479   \n",
       "3  31422333        0.0         T   00               A  National    0.020088   \n",
       "4  31422333        0.0         T   00               A  National    0.036383   \n",
       "\n",
       "  short_name  week week_start  year  \n",
       "0         US     1      05AUG  2017  \n",
       "1         US     2      12AUG  2017  \n",
       "2         US     3      19AUG  2017  \n",
       "3         US     4      26AUG  2017  \n",
       "4         US     5      02SEP  2017  "
      ]
     },
     "execution_count": 4,
     "metadata": {},
     "output_type": "execute_result"
    }
   ],
   "source": [
    "# Inspect the HHS dataframe.\n",
    "df.head()"
   ]
  },
  {
   "cell_type": "code",
   "execution_count": 5,
   "metadata": {
    "collapsed": true
   },
   "outputs": [],
   "source": [
    "# Select only columns count, percentage, and week.\n",
    "df = df[['count', 'percentage', 'week']]"
   ]
  },
  {
   "cell_type": "code",
   "execution_count": 6,
   "metadata": {
    "collapsed": true
   },
   "outputs": [],
   "source": [
    "# Rename columns to match CDC data.\n",
    "df = df.rename(columns={\"count\":\"vaccinations\", \"percentage\":\"vac_percent\"})"
   ]
  },
  {
   "cell_type": "code",
   "execution_count": 7,
   "metadata": {
    "collapsed": true
   },
   "outputs": [],
   "source": [
    "# Create another dataframe.\n",
    "# This is a checkpoint for restarting the process.\n",
    "df2 = df"
   ]
  },
  {
   "cell_type": "code",
   "execution_count": 8,
   "metadata": {},
   "outputs": [
    {
     "data": {
      "text/html": [
       "<div>\n",
       "<style>\n",
       "    .dataframe thead tr:only-child th {\n",
       "        text-align: right;\n",
       "    }\n",
       "\n",
       "    .dataframe thead th {\n",
       "        text-align: left;\n",
       "    }\n",
       "\n",
       "    .dataframe tbody tr th {\n",
       "        vertical-align: top;\n",
       "    }\n",
       "</style>\n",
       "<table border=\"1\" class=\"dataframe\">\n",
       "  <thead>\n",
       "    <tr style=\"text-align: right;\">\n",
       "      <th></th>\n",
       "      <th>vaccinations</th>\n",
       "      <th>vac_percent</th>\n",
       "      <th>week</th>\n",
       "    </tr>\n",
       "  </thead>\n",
       "  <tbody>\n",
       "    <tr>\n",
       "      <th>0</th>\n",
       "      <td>31422333</td>\n",
       "      <td>0.001697</td>\n",
       "      <td>1</td>\n",
       "    </tr>\n",
       "    <tr>\n",
       "      <th>1</th>\n",
       "      <td>31422333</td>\n",
       "      <td>0.005075</td>\n",
       "      <td>2</td>\n",
       "    </tr>\n",
       "    <tr>\n",
       "      <th>2</th>\n",
       "      <td>31422333</td>\n",
       "      <td>0.010479</td>\n",
       "      <td>3</td>\n",
       "    </tr>\n",
       "    <tr>\n",
       "      <th>3</th>\n",
       "      <td>31422333</td>\n",
       "      <td>0.020088</td>\n",
       "      <td>4</td>\n",
       "    </tr>\n",
       "    <tr>\n",
       "      <th>4</th>\n",
       "      <td>31422333</td>\n",
       "      <td>0.036383</td>\n",
       "      <td>5</td>\n",
       "    </tr>\n",
       "  </tbody>\n",
       "</table>\n",
       "</div>"
      ],
      "text/plain": [
       "   vaccinations  vac_percent  week\n",
       "0      31422333     0.001697     1\n",
       "1      31422333     0.005075     2\n",
       "2      31422333     0.010479     3\n",
       "3      31422333     0.020088     4\n",
       "4      31422333     0.036383     5"
      ]
     },
     "execution_count": 8,
     "metadata": {},
     "output_type": "execute_result"
    }
   ],
   "source": [
    "# Inspect the HHS dataframe.\n",
    "df2.head()"
   ]
  },
  {
   "cell_type": "code",
   "execution_count": 9,
   "metadata": {
    "collapsed": true
   },
   "outputs": [],
   "source": [
    "# Convert the vacination percentage from a ratio to a percentage.\n",
    "df2.vac_percent = df2.vac_percent * 100"
   ]
  },
  {
   "cell_type": "code",
   "execution_count": 10,
   "metadata": {},
   "outputs": [
    {
     "data": {
      "text/html": [
       "<div>\n",
       "<style>\n",
       "    .dataframe thead tr:only-child th {\n",
       "        text-align: right;\n",
       "    }\n",
       "\n",
       "    .dataframe thead th {\n",
       "        text-align: left;\n",
       "    }\n",
       "\n",
       "    .dataframe tbody tr th {\n",
       "        vertical-align: top;\n",
       "    }\n",
       "</style>\n",
       "<table border=\"1\" class=\"dataframe\">\n",
       "  <thead>\n",
       "    <tr style=\"text-align: right;\">\n",
       "      <th></th>\n",
       "      <th>vaccinations</th>\n",
       "      <th>vac_percent</th>\n",
       "      <th>week</th>\n",
       "    </tr>\n",
       "  </thead>\n",
       "  <tbody>\n",
       "    <tr>\n",
       "      <th>0</th>\n",
       "      <td>31422333</td>\n",
       "      <td>0.169688</td>\n",
       "      <td>1</td>\n",
       "    </tr>\n",
       "    <tr>\n",
       "      <th>1</th>\n",
       "      <td>31422333</td>\n",
       "      <td>0.507467</td>\n",
       "      <td>2</td>\n",
       "    </tr>\n",
       "    <tr>\n",
       "      <th>2</th>\n",
       "      <td>31422333</td>\n",
       "      <td>1.047860</td>\n",
       "      <td>3</td>\n",
       "    </tr>\n",
       "    <tr>\n",
       "      <th>3</th>\n",
       "      <td>31422333</td>\n",
       "      <td>2.008780</td>\n",
       "      <td>4</td>\n",
       "    </tr>\n",
       "    <tr>\n",
       "      <th>4</th>\n",
       "      <td>31422333</td>\n",
       "      <td>3.638280</td>\n",
       "      <td>5</td>\n",
       "    </tr>\n",
       "  </tbody>\n",
       "</table>\n",
       "</div>"
      ],
      "text/plain": [
       "   vaccinations  vac_percent  week\n",
       "0      31422333     0.169688     1\n",
       "1      31422333     0.507467     2\n",
       "2      31422333     1.047860     3\n",
       "3      31422333     2.008780     4\n",
       "4      31422333     3.638280     5"
      ]
     },
     "execution_count": 10,
     "metadata": {},
     "output_type": "execute_result"
    }
   ],
   "source": [
    "# Inspect the dataframe for the change.\n",
    "df2.head()"
   ]
  },
  {
   "cell_type": "code",
   "execution_count": 11,
   "metadata": {
    "collapsed": true
   },
   "outputs": [],
   "source": [
    "# Add the \"vaccination percentage per week\" attribute.\n",
    "df2['vac_pct_week'] = 0.0"
   ]
  },
  {
   "cell_type": "code",
   "execution_count": 12,
   "metadata": {
    "collapsed": true
   },
   "outputs": [],
   "source": [
    "# Calculate the vaccination per week by getting the differences in the cumulative vaccine rate.\n",
    "for index_entry in df2.index:\n",
    "    if index_entry == 0:\n",
    "        df2.loc[index_entry, 'vac_pct_week'] = df2.loc[index_entry, 'vac_percent']\n",
    "        continue\n",
    "    i = index_entry - 1\n",
    "    df2.loc[index_entry, 'vac_pct_week'] = df2.loc[index_entry, 'vac_percent'] - df2.loc[i, 'vac_percent']"
   ]
  },
  {
   "cell_type": "code",
   "execution_count": 13,
   "metadata": {},
   "outputs": [
    {
     "data": {
      "text/html": [
       "<div>\n",
       "<style>\n",
       "    .dataframe thead tr:only-child th {\n",
       "        text-align: right;\n",
       "    }\n",
       "\n",
       "    .dataframe thead th {\n",
       "        text-align: left;\n",
       "    }\n",
       "\n",
       "    .dataframe tbody tr th {\n",
       "        vertical-align: top;\n",
       "    }\n",
       "</style>\n",
       "<table border=\"1\" class=\"dataframe\">\n",
       "  <thead>\n",
       "    <tr style=\"text-align: right;\">\n",
       "      <th></th>\n",
       "      <th>vaccinations</th>\n",
       "      <th>vac_percent</th>\n",
       "      <th>week</th>\n",
       "      <th>vac_pct_week</th>\n",
       "    </tr>\n",
       "  </thead>\n",
       "  <tbody>\n",
       "    <tr>\n",
       "      <th>0</th>\n",
       "      <td>31422333</td>\n",
       "      <td>0.169688</td>\n",
       "      <td>1</td>\n",
       "      <td>0.169688</td>\n",
       "    </tr>\n",
       "    <tr>\n",
       "      <th>1</th>\n",
       "      <td>31422333</td>\n",
       "      <td>0.507467</td>\n",
       "      <td>2</td>\n",
       "      <td>0.337779</td>\n",
       "    </tr>\n",
       "    <tr>\n",
       "      <th>2</th>\n",
       "      <td>31422333</td>\n",
       "      <td>1.047860</td>\n",
       "      <td>3</td>\n",
       "      <td>0.540393</td>\n",
       "    </tr>\n",
       "    <tr>\n",
       "      <th>3</th>\n",
       "      <td>31422333</td>\n",
       "      <td>2.008780</td>\n",
       "      <td>4</td>\n",
       "      <td>0.960920</td>\n",
       "    </tr>\n",
       "    <tr>\n",
       "      <th>4</th>\n",
       "      <td>31422333</td>\n",
       "      <td>3.638280</td>\n",
       "      <td>5</td>\n",
       "      <td>1.629500</td>\n",
       "    </tr>\n",
       "  </tbody>\n",
       "</table>\n",
       "</div>"
      ],
      "text/plain": [
       "   vaccinations  vac_percent  week  vac_pct_week\n",
       "0      31422333     0.169688     1      0.169688\n",
       "1      31422333     0.507467     2      0.337779\n",
       "2      31422333     1.047860     3      0.540393\n",
       "3      31422333     2.008780     4      0.960920\n",
       "4      31422333     3.638280     5      1.629500"
      ]
     },
     "execution_count": 13,
     "metadata": {},
     "output_type": "execute_result"
    }
   ],
   "source": [
    "# Inspect the HHS dataframe for the calculation.\n",
    "df2.head()"
   ]
  },
  {
   "cell_type": "code",
   "execution_count": 14,
   "metadata": {
    "collapsed": true
   },
   "outputs": [],
   "source": [
    "# Write the HHS national data to a json file.\n",
    "df2.to_json('../data/hhs_national.json')"
   ]
  },
  {
   "cell_type": "code",
   "execution_count": 16,
   "metadata": {
    "collapsed": true
   },
   "outputs": [],
   "source": [
    "# Start the validation process by loading the above file into a dataframe.\n",
    "df3 = pd.read_json('../data/hhs_national.json')"
   ]
  },
  {
   "cell_type": "code",
   "execution_count": 18,
   "metadata": {
    "collapsed": true
   },
   "outputs": [],
   "source": [
    "# Sort the HHS dataframe by week to aid in inspection.\n",
    "df4 = df3.sort_values(['week'])"
   ]
  },
  {
   "cell_type": "code",
   "execution_count": 19,
   "metadata": {},
   "outputs": [
    {
     "data": {
      "text/html": [
       "<div>\n",
       "<style>\n",
       "    .dataframe thead tr:only-child th {\n",
       "        text-align: right;\n",
       "    }\n",
       "\n",
       "    .dataframe thead th {\n",
       "        text-align: left;\n",
       "    }\n",
       "\n",
       "    .dataframe tbody tr th {\n",
       "        vertical-align: top;\n",
       "    }\n",
       "</style>\n",
       "<table border=\"1\" class=\"dataframe\">\n",
       "  <thead>\n",
       "    <tr style=\"text-align: right;\">\n",
       "      <th></th>\n",
       "      <th>vac_pct_week</th>\n",
       "      <th>vac_percent</th>\n",
       "      <th>vaccinations</th>\n",
       "      <th>week</th>\n",
       "    </tr>\n",
       "  </thead>\n",
       "  <tbody>\n",
       "    <tr>\n",
       "      <th>0</th>\n",
       "      <td>0.169688</td>\n",
       "      <td>0.169688</td>\n",
       "      <td>31422333</td>\n",
       "      <td>1</td>\n",
       "    </tr>\n",
       "    <tr>\n",
       "      <th>1</th>\n",
       "      <td>0.337779</td>\n",
       "      <td>0.507467</td>\n",
       "      <td>31422333</td>\n",
       "      <td>2</td>\n",
       "    </tr>\n",
       "    <tr>\n",
       "      <th>2</th>\n",
       "      <td>0.540393</td>\n",
       "      <td>1.047860</td>\n",
       "      <td>31422333</td>\n",
       "      <td>3</td>\n",
       "    </tr>\n",
       "    <tr>\n",
       "      <th>3</th>\n",
       "      <td>0.960920</td>\n",
       "      <td>2.008780</td>\n",
       "      <td>31422333</td>\n",
       "      <td>4</td>\n",
       "    </tr>\n",
       "    <tr>\n",
       "      <th>4</th>\n",
       "      <td>1.629500</td>\n",
       "      <td>3.638280</td>\n",
       "      <td>31422333</td>\n",
       "      <td>5</td>\n",
       "    </tr>\n",
       "  </tbody>\n",
       "</table>\n",
       "</div>"
      ],
      "text/plain": [
       "   vac_pct_week  vac_percent  vaccinations  week\n",
       "0      0.169688     0.169688      31422333     1\n",
       "1      0.337779     0.507467      31422333     2\n",
       "2      0.540393     1.047860      31422333     3\n",
       "3      0.960920     2.008780      31422333     4\n",
       "4      1.629500     3.638280      31422333     5"
      ]
     },
     "execution_count": 19,
     "metadata": {},
     "output_type": "execute_result"
    }
   ],
   "source": [
    "# Inspect HHS data.\n",
    "df4.head()"
   ]
  },
  {
   "cell_type": "code",
   "execution_count": 20,
   "metadata": {},
   "outputs": [
    {
     "data": {
      "text/html": [
       "<div>\n",
       "<style>\n",
       "    .dataframe thead tr:only-child th {\n",
       "        text-align: right;\n",
       "    }\n",
       "\n",
       "    .dataframe thead th {\n",
       "        text-align: left;\n",
       "    }\n",
       "\n",
       "    .dataframe tbody tr th {\n",
       "        vertical-align: top;\n",
       "    }\n",
       "</style>\n",
       "<table border=\"1\" class=\"dataframe\">\n",
       "  <thead>\n",
       "    <tr style=\"text-align: right;\">\n",
       "      <th></th>\n",
       "      <th>vac_pct_week</th>\n",
       "      <th>vac_percent</th>\n",
       "      <th>vaccinations</th>\n",
       "      <th>week</th>\n",
       "    </tr>\n",
       "  </thead>\n",
       "  <tbody>\n",
       "    <tr>\n",
       "      <th>20</th>\n",
       "      <td>0.2095</td>\n",
       "      <td>45.8187</td>\n",
       "      <td>31422333</td>\n",
       "      <td>21</td>\n",
       "    </tr>\n",
       "    <tr>\n",
       "      <th>21</th>\n",
       "      <td>0.1009</td>\n",
       "      <td>45.9196</td>\n",
       "      <td>31422333</td>\n",
       "      <td>22</td>\n",
       "    </tr>\n",
       "    <tr>\n",
       "      <th>22</th>\n",
       "      <td>0.0651</td>\n",
       "      <td>45.9847</td>\n",
       "      <td>31422333</td>\n",
       "      <td>23</td>\n",
       "    </tr>\n",
       "    <tr>\n",
       "      <th>23</th>\n",
       "      <td>0.0026</td>\n",
       "      <td>45.9873</td>\n",
       "      <td>31422333</td>\n",
       "      <td>24</td>\n",
       "    </tr>\n",
       "    <tr>\n",
       "      <th>24</th>\n",
       "      <td>0.0000</td>\n",
       "      <td>45.9873</td>\n",
       "      <td>31422333</td>\n",
       "      <td>25</td>\n",
       "    </tr>\n",
       "  </tbody>\n",
       "</table>\n",
       "</div>"
      ],
      "text/plain": [
       "    vac_pct_week  vac_percent  vaccinations  week\n",
       "20        0.2095      45.8187      31422333    21\n",
       "21        0.1009      45.9196      31422333    22\n",
       "22        0.0651      45.9847      31422333    23\n",
       "23        0.0026      45.9873      31422333    24\n",
       "24        0.0000      45.9873      31422333    25"
      ]
     },
     "execution_count": 20,
     "metadata": {},
     "output_type": "execute_result"
    }
   ],
   "source": [
    "# Inspect HHS data.\n",
    "df4.tail()"
   ]
  }
 ],
 "metadata": {
  "kernelspec": {
   "display_name": "Python 3",
   "language": "python",
   "name": "python3"
  },
  "language_info": {
   "codemirror_mode": {
    "name": "ipython",
    "version": 3
   },
   "file_extension": ".py",
   "mimetype": "text/x-python",
   "name": "python",
   "nbconvert_exporter": "python",
   "pygments_lexer": "ipython3",
   "version": "3.6.3"
  },
  "varInspector": {
   "cols": {
    "lenName": 16,
    "lenType": 16,
    "lenVar": 40
   },
   "kernels_config": {
    "python": {
     "delete_cmd_postfix": "",
     "delete_cmd_prefix": "del ",
     "library": "var_list.py",
     "varRefreshCmd": "print(var_dic_list())"
    },
    "r": {
     "delete_cmd_postfix": ") ",
     "delete_cmd_prefix": "rm(",
     "library": "var_list.r",
     "varRefreshCmd": "cat(var_dic_list()) "
    }
   },
   "types_to_exclude": [
    "module",
    "function",
    "builtin_function_or_method",
    "instance",
    "_Feature"
   ],
   "window_display": false
  }
 },
 "nbformat": 4,
 "nbformat_minor": 2
}
